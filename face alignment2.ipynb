{
 "cells": [
  {
   "cell_type": "markdown",
   "metadata": {},
   "source": [
    "# 【Face Alignment其二】face alignment的3D投影算法\n",
    "\n",
    "本文参考代码为：https://github.com/dougsouza/face-frontalization\n",
    "\n",
    "在《【Face Alignment其一】用dlib进行face alignment的简单实现》中，讲解了Face Alignment的简单实现。但通常这种程度的alignment是不够的。目前一个主流的做法是利用人脸landmark的3D模型，将facial landmark投影至3D空间后再投影到正面上。"
   ]
  },
  {
   "cell_type": "code",
   "execution_count": null,
   "metadata": {},
   "outputs": [],
   "source": []
  }
 ],
 "metadata": {
  "kernelspec": {
   "display_name": "Python 3",
   "language": "python",
   "name": "python3"
  },
  "language_info": {
   "codemirror_mode": {
    "name": "ipython",
    "version": 3
   },
   "file_extension": ".py",
   "mimetype": "text/x-python",
   "name": "python",
   "nbconvert_exporter": "python",
   "pygments_lexer": "ipython3",
   "version": "3.6.6"
  }
 },
 "nbformat": 4,
 "nbformat_minor": 2
}
