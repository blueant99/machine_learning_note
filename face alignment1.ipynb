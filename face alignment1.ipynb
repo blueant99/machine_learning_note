{
 "cells": [
  {
   "cell_type": "markdown",
   "metadata": {},
   "source": [
    "# 【Face Alignment其一】用dlib进行face alignment的简单实现\n",
    "\n",
    "本文基本上是[Facial landmarks with dlib, OpenCV, and Python](https://www.pyimagesearch.com/2017/04/03/facial-landmarks-dlib-opencv-python/) 和 [Face Alignment with OpenCV and Python](https://www.pyimagesearch.com/2017/05/22/face-alignment-with-opencv-and-python/) 的汉化搬运。这个博客的作者是imutils的作者，写的博文都非常详细，详细到每一行都有讲解，而且基本对于中间遇到的各种问题都有附上相应的博文，十分适合新手。\n",
    "\n",
    "在使用dlib进行下述步骤之前，请安装dlib并upgrade至最新版本（参见[How to install dlib](https://www.pyimagesearch.com/2017/03/27/how-to-install-dlib/)）。\n",
    "\n",
    "## 获取face landmark\n",
    "\n",
    "在dlib中提供了已经训练好的facial landmark detector，一共包含了68个点，如下图所示：\n",
    "![Alt text](https://www.pyimagesearch.com/wp-content/uploads/2017/04/facial_landmarks_68markup-768x619.jpg)\n",
    "\n",
    "在最开始，我们需要定义检测人脸的face detector和用于检测facial landmark的predictor。"
   ]
  },
  {
   "cell_type": "code",
   "execution_count": 1,
   "metadata": {},
   "outputs": [],
   "source": [
    "# import the necessary packages\n",
    "from imutils import face_utils\n",
    "import numpy as np\n",
    "import argparse\n",
    "import imutils\n",
    "import dlib\n",
    "import cv2\n",
    "\n",
    "# initialize dlib's face detector (HOG-based) and then create\n",
    "# the facial landmark predictor\n",
    "predictor_path = \"shape_predictor_68_face_landmarks.dat\"\n",
    "detector = dlib.get_frontal_face_detector()\n",
    "predictor = dlib.shape_predictor(predictor_path)"
   ]
  },
  {
   "cell_type": "markdown",
   "metadata": {},
   "source": [
    "接下来，读入图片并检测图片中有几张脸。"
   ]
  },
  {
   "cell_type": "code",
   "execution_count": 2,
   "metadata": {},
   "outputs": [],
   "source": [
    "# load the input image, resize it, and convert it to grayscale\n",
    "image = cv2.imread('1.jpg')\n",
    "image = imutils.resize(image, width=500)\n",
    "gray = cv2.cvtColor(image, cv2.COLOR_BGR2GRAY)\n",
    "\n",
    "# detect faces in the grayscale image\n",
    "rects = detector(gray, 1)"
   ]
  },
  {
   "cell_type": "markdown",
   "metadata": {},
   "source": [
    "detector的第二个参数意为image pyramid layers的层数，具体可参考cv2.pyrUp函数。\n",
    "\n",
    "最后在每张脸中用predictor得到位置。"
   ]
  },
  {
   "cell_type": "code",
   "execution_count": 3,
   "metadata": {},
   "outputs": [],
   "source": [
    "# loop over the face detections\n",
    "for (i, rect) in enumerate(rects):\n",
    "\t# determine the facial landmarks for the face region, then\n",
    "\t# convert the facial landmark (x, y)-coordinates to a NumPy\n",
    "\t# array\n",
    "\tshape = predictor(gray, rect)\n",
    "\tshape = face_utils.shape_to_np(shape)"
   ]
  },
  {
   "cell_type": "markdown",
   "metadata": {},
   "source": [
    "## Alignment\n",
    "\n",
    "在imutils中提供了FaceAligner，其中的align函数即可实现对脸部的简单alignment。需要注意的是，这个函数利用人眼进行简单的仿射变换（即计算平移，旋转，缩放）从而实现alignment，故其结果并不算很精确。\n",
    "\n",
    "### Rotation\n"
   ]
  },
  {
   "cell_type": "code",
   "execution_count": null,
   "metadata": {},
   "outputs": [],
   "source": [
    "        # compute the center of mass for each eye\n",
    "        leftEyeCenter = leftEyePts.mean(axis=0).astype(\"int\")\n",
    "        rightEyeCenter = rightEyePts.mean(axis=0).astype(\"int\")\n",
    "\n",
    "        # compute the angle between the eye centroids\n",
    "        dY = rightEyeCenter[1] - leftEyeCenter[1]\n",
    "        dX = rightEyeCenter[0] - leftEyeCenter[0]\n",
    "        angle = np.degrees(np.arctan2(dY, dX)) - 180"
   ]
  },
  {
   "cell_type": "markdown",
   "metadata": {},
   "source": [
    "### Scale"
   ]
  },
  {
   "cell_type": "code",
   "execution_count": null,
   "metadata": {},
   "outputs": [],
   "source": [
    "        # compute the desired right eye x-coordinate based on the\n",
    "        # desired x-coordinate of the left eye\n",
    "        desiredRightEyeX = 1.0 - self.desiredLeftEye[0]\n",
    "\n",
    "        # determine the scale of the new resulting image by taking\n",
    "        # the ratio of the distance between eyes in the *current*\n",
    "        # image to the ratio of distance between eyes in the\n",
    "        # *desired* image\n",
    "        dist = np.sqrt((dX ** 2) + (dY ** 2))\n",
    "        desiredDist = (desiredRightEyeX - self.desiredLeftEye[0])\n",
    "        desiredDist *= self.desiredFaceWidth\n",
    "        scale = desiredDist / dist"
   ]
  },
  {
   "cell_type": "markdown",
   "metadata": {},
   "source": [
    "### Translation"
   ]
  },
  {
   "cell_type": "code",
   "execution_count": null,
   "metadata": {},
   "outputs": [],
   "source": [
    "        # compute center (x, y)-coordinates (i.e., the median point)\n",
    "        # between the two eyes in the input image\n",
    "        eyesCenter = ((leftEyeCenter[0] + rightEyeCenter[0]) // 2,\n",
    "            (leftEyeCenter[1] + rightEyeCenter[1]) // 2)\n",
    "\n",
    "        # grab the rotation matrix for rotating and scaling the face\n",
    "        M = cv2.getRotationMatrix2D(eyesCenter, angle, scale)\n",
    "\n",
    "        # update the translation component of the matrix\n",
    "        tX = self.desiredFaceWidth * 0.5\n",
    "        tY = self.desiredFaceHeight * self.desiredLeftEye[1]\n",
    "        M[0, 2] += (tX - eyesCenter[0])\n",
    "        M[1, 2] += (tY - eyesCenter[1])"
   ]
  },
  {
   "cell_type": "markdown",
   "metadata": {},
   "source": [
    "完整代码如下："
   ]
  },
  {
   "cell_type": "code",
   "execution_count": 5,
   "metadata": {},
   "outputs": [],
   "source": [
    "# import the necessary packages\n",
    "from imutils.face_utils import FaceAligner\n",
    "from imutils.face_utils import rect_to_bb\n",
    "import argparse\n",
    "import imutils\n",
    "import dlib\n",
    "import cv2\n",
    "\n",
    "# initialize dlib's face detector (HOG-based) and then create\n",
    "# the facial landmark predictor and the face aligner\n",
    "predictor_path = \"shape_predictor_68_face_landmarks.dat\"\n",
    "detector = dlib.get_frontal_face_detector()\n",
    "predictor = dlib.shape_predictor(predictor_path)\n",
    "\n",
    "fa = FaceAligner(predictor, desiredFaceWidth=256)\n",
    "\n",
    "# load the input image, resize it, and convert it to grayscale\n",
    "image = cv2.imread('1.jpg')\n",
    "image = imutils.resize(image, width=800)\n",
    "gray = cv2.cvtColor(image, cv2.COLOR_BGR2GRAY)\n",
    "\n",
    "# show the original input image and detect faces in the grayscale\n",
    "# image\n",
    "#cv2.imshow(\"Input\", image)\n",
    "rects = detector(gray, 2)\n",
    "\n",
    "# loop over the face detections\n",
    "for rect in rects:\n",
    "\t# extract the ROI of the *original* face, then align the face\n",
    "\t# using facial landmarks\n",
    "\t(x, y, w, h) = rect_to_bb(rect)\n",
    "\tfaceOrig = imutils.resize(image[y:y + h, x:x + w], width=256)\n",
    "\tfaceAligned = fa.align(image, gray, rect)"
   ]
  },
  {
   "cell_type": "code",
   "execution_count": null,
   "metadata": {},
   "outputs": [],
   "source": []
  }
 ],
 "metadata": {
  "kernelspec": {
   "display_name": "Python 2",
   "language": "python",
   "name": "python2"
  },
  "language_info": {
   "codemirror_mode": {
    "name": "ipython",
    "version": 2
   },
   "file_extension": ".py",
   "mimetype": "text/x-python",
   "name": "python",
   "nbconvert_exporter": "python",
   "pygments_lexer": "ipython2",
   "version": "2.7.12"
  }
 },
 "nbformat": 4,
 "nbformat_minor": 2
}
